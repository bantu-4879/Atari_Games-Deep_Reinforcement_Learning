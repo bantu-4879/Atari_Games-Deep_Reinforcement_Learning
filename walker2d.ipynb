{
 "cells": [
  {
   "cell_type": "code",
   "execution_count": null,
   "metadata": {},
   "outputs": [],
   "source": [
    "# importing necessary libraries\n",
    "import gymnasium as gym\n",
    "from stable_baselines3 import PPO\n",
    "from stable_baselines3.common.env_util import make_vec_env\n",
    "from stable_baselines3.common.evaluation import evaluate_policy"
   ]
  },
  {
   "cell_type": "code",
   "execution_count": null,
   "metadata": {},
   "outputs": [],
   "source": [
    "# Create the environment\n",
    "env = make_vec_env('Walker2d-v4', n_envs=1)\n",
    "\n",
    "# Define the model\n",
    "model = PPO(\n",
    "    \"MlpPolicy\",\n",
    "    env,\n",
    "    learning_rate = 3e-4,\n",
    "    n_steps = 4096,\n",
    "    batch_size = 64,\n",
    "    n_epochs = 10,\n",
    "    gamma = 0.99,\n",
    "    gae_lambda = 0.95,\n",
    "    clip_range = 0.2,\n",
    "    ent_coef = 0.01,\n",
    "    vf_coef = 0.5,\n",
    "    max_grad_norm = 0.5,\n",
    "    verbose=1\n",
    ")\n",
    "\n",
    "model.learn(total_timesteps=4000000)"
   ]
  },
  {
   "cell_type": "code",
   "execution_count": null,
   "metadata": {},
   "outputs": [],
   "source": [
    "# save the model\n",
    "model.save(\"ppo_walker2d\")"
   ]
  },
  {
   "cell_type": "code",
   "execution_count": null,
   "metadata": {},
   "outputs": [],
   "source": [
    "# Evaluate the model\n",
    "mean_reward, std_reward = evaluate_policy(model, env, n_eval_episodes=25)\n",
    "print(f'Reward : {mean_reward} +/- {std_reward}')"
   ]
  },
  {
   "cell_type": "code",
   "execution_count": null,
   "metadata": {},
   "outputs": [],
   "source": [
    "# Recording the video\n",
    "from stable_baselines3.common.vec_env import VecVideoRecorder, DummyVecEnv\n",
    "\n",
    "env_id = 'Walker2d-v4'\n",
    "video_folder = './videos'\n",
    "video_length = 1000\n",
    "\n",
    "vec_env = DummyVecEnv([lambda: gym.make(env_id, render_mode='rgb_array')])\n",
    "obs = vec_env.reset()\n",
    "\n",
    "vec_env = VecVideoRecorder(vec_env, video_folder=video_folder, record_video_trigger=lambda x: x%1000 == 0, \n",
    "                           video_length=video_length, name_prefix=f'Walker2d-v4-{video_length}')\n",
    "\n",
    "vec_env.reset()\n",
    "for i in range(video_length + 1):\n",
    "    action , _states = model.predict(obs)\n",
    "    obs, rewards, done, info = vec_env.step(action)\n",
    "\n",
    "vec_env.close()\n"
   ]
  },
  {
   "cell_type": "code",
   "execution_count": null,
   "metadata": {},
   "outputs": [],
   "source": [
    "# Uploading model to hugging face\n",
    "import gymnasium as gym\n",
    "from stable_baselines3.common.vec_env import DummyVecEnv\n",
    "from stable_baselines3.common.env_util import make_vec_env\n",
    "\n",
    "from huggingface_sb3 import package_to_hub\n",
    "\n",
    "model_name = \"ppo-Walker2d-v4\"\n",
    "\n",
    "# Define a repo_id\n",
    "repo_id = 'Amankankriya/ppo-Walker2d-v4'\n",
    "\n",
    "# Define the name of the environment\n",
    "env_id = 'Walker2d-v4'\n",
    "\n",
    "# Create the evaluation env and set the render_mode=\"rgb_array\"\n",
    "eval_env = DummyVecEnv([lambda: gym.make(env_id, render_mode=\"rgb_array\")])\n",
    "\n",
    "\n",
    "# Define the model architecture we used\n",
    "model_architecture = \"PPO\"\n",
    "\n",
    "## Define the commit message\n",
    "commit_message = \"trained model for Walker2d-v4 using PPO\"\n",
    "\n",
    "# method save, evaluate, generate a model card and record a replay video of your agent before pushing the repo to the hub\n",
    "package_to_hub(model=model, # Our trained model\n",
    "               model_name=model_name, # The name of our trained model \n",
    "               model_architecture=model_architecture, # The model architecture we used: in our case PPO\n",
    "               env_id=env_id, # Name of the environment\n",
    "               eval_env=eval_env, # Evaluation Environment\n",
    "               repo_id=repo_id, # id of the model repository from the Hugging Face Hub (repo_id = {organization}/{repo_name} for instance Amankankriya/ppo-CarRacing-v2\n",
    "               commit_message=commit_message)"
   ]
  }
 ],
 "metadata": {
  "kernelspec": {
   "display_name": "deeprl",
   "language": "python",
   "name": "python3"
  },
  "language_info": {
   "codemirror_mode": {
    "name": "ipython",
    "version": 3
   },
   "file_extension": ".py",
   "mimetype": "text/x-python",
   "name": "python",
   "nbconvert_exporter": "python",
   "pygments_lexer": "ipython3",
   "version": "3.9.6"
  }
 },
 "nbformat": 4,
 "nbformat_minor": 2
}
