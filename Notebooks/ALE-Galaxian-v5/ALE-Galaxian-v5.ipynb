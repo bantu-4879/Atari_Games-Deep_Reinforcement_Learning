{
 "cells": [
  {
   "cell_type": "code",
   "execution_count": null,
   "metadata": {},
   "outputs": [],
   "source": [
    "# Importing necessary Libraries\n",
    "import gymnasium as gym\n",
    "from stable_baselines3 import PPO\n",
    "from stable_baselines3.common.env_util import make_vec_env\n",
    "from stable_baselines3.common.evaluation import evaluate_policy"
   ]
  },
  {
   "cell_type": "code",
   "execution_count": null,
   "metadata": {},
   "outputs": [],
   "source": [
    "# Creating the environment\n",
    "env = make_vec_env('ALE/Galaxian-v5', n_envs=1)\n",
    "\n",
    "# Creating a model\n",
    "model = PPO(\n",
    "            \"CnnPolicy\",\n",
    "            env,\n",
    "            n_steps=128,\n",
    "            batch_size=256,\n",
    "            gae_lambda=0.95,\n",
    "            gamma=0.99,\n",
    "            n_epochs=4,\n",
    "            ent_coef=0.01,\n",
    "            learning_rate=2.5e-4,\n",
    "            vf_coef=0.5,\n",
    "            max_grad_norm=0.5,\n",
    "            clip_range=0.2,\n",
    "            verbose=1\n",
    "        )\n",
    "\n",
    "model.learn(total_timesteps=10000000)"
   ]
  },
  {
   "cell_type": "code",
   "execution_count": null,
   "metadata": {},
   "outputs": [],
   "source": [
    "# save the model\n",
    "model.save(\"PPO-Galaxian-v5\")"
   ]
  },
  {
   "cell_type": "code",
   "execution_count": null,
   "metadata": {},
   "outputs": [],
   "source": [
    "# Evaluating the model\n",
    "mean_reward, std_reward = evaluate_policy(model, env, n_eval_episodes=25)\n",
    "print(f'Reward: {mean_reward} +/- {std_reward}')"
   ]
  },
  {
   "cell_type": "code",
   "execution_count": null,
   "metadata": {},
   "outputs": [],
   "source": [
    "# Recording the video\n",
    "from stable_baselines3.common.vec_env import VecVideoRecorder, DummyVecEnv\n",
    "\n",
    "env_id = 'ALE/Galaxian-v5'\n",
    "video_folder = './videos'\n",
    "video_length = 1950\n",
    "\n",
    "vec_env = DummyVecEnv([lambda: gym.make(env_id, render_mode='rgb_array')])\n",
    "obs = vec_env.reset()\n",
    "\n",
    "vec_env = VecVideoRecorder(vec_env, video_folder=video_folder, record_video_trigger=lambda x: x%1000 == 0, \n",
    "                           video_length=video_length, name_prefix=f'Galaxian-v5-{video_length}')\n",
    "\n",
    "vec_env.reset()\n",
    "\n",
    "for i in range(video_length+1):\n",
    "    action, _states = model.predict(obs)\n",
    "    obs, rewards, done, info = vec_env.step(action)\n",
    "\n",
    "vec_env.close()"
   ]
  }
 ],
 "metadata": {
  "kernelspec": {
   "display_name": "deeprl",
   "language": "python",
   "name": "python3"
  },
  "language_info": {
   "codemirror_mode": {
    "name": "ipython",
    "version": 3
   },
   "file_extension": ".py",
   "mimetype": "text/x-python",
   "name": "python",
   "nbconvert_exporter": "python",
   "pygments_lexer": "ipython3",
   "version": "3.9.6"
  }
 },
 "nbformat": 4,
 "nbformat_minor": 2
}
