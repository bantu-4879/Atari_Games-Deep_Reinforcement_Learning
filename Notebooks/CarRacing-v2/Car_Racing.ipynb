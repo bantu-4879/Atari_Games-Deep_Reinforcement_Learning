{
 "cells": [
  {
   "cell_type": "code",
   "execution_count": null,
   "metadata": {},
   "outputs": [],
   "source": [
    "# Importing necessary Libraries\n",
    "import gymnasium as gym\n",
    "from stable_baselines3 import PPO\n",
    "from stable_baselines3.common.env_util import make_vec_env\n",
    "from stable_baselines3.common.evaluation import evaluate_policy\n",
    "\n",
    "\n",
    "env = make_vec_env('CarRacing-v2', n_envs=8)\n",
    "\n",
    "# Initialize the model\n",
    "model = PPO(policy = \"CnnPolicy\",\n",
    "            env = env,\n",
    "            batch_size = 128,\n",
    "            clip_range = 0.1,\n",
    "            ent_coef = 0.01,\n",
    "            gae_lambda = 0.9,\n",
    "            gamma = 0.99,\n",
    "            learning_rate = 0.00005,\n",
    "            max_grad_norm = 0.5,\n",
    "            n_epochs = 4,\n",
    "            n_steps = 256,\n",
    "            vf_coef = 0.5,\n",
    "            verbose=1)\n",
    "\n",
    "model.learn(total_timesteps=1e7)"
   ]
  },
  {
   "cell_type": "code",
   "execution_count": null,
   "metadata": {},
   "outputs": [],
   "source": [
    "# Evaluate the model\n",
    "mean_reward, std_reward =  evaluate_policy(model, env, n_eval_episodes=25)\n",
    "print('Mean Reward :', mean_reward)\n",
    "print('Deviation :', std_reward)"
   ]
  },
  {
   "cell_type": "code",
   "execution_count": null,
   "metadata": {},
   "outputs": [],
   "source": [
    "# Save the model\n",
    "model.save(\"ppo_carracing\")"
   ]
  },
  {
   "cell_type": "markdown",
   "metadata": {},
   "source": [
    "<h1>PPO</h1>"
   ]
  },
  {
   "cell_type": "markdown",
   "metadata": {},
   "source": [
    "\n",
    "| Learning Rate | Mean Reward | Deviation |\n",
    "|---------------|-------------|-----------|\n",
    "| 0.00001       | -59.55538536| 25.310341824182267 |\n",
    "| 0.00005       | 289.0281644 | 120.81766432392448 |\n",
    "| 0.0001        | 81.42063832 | 76.9650508453757   |\n",
    "| 0.0002        | 65.2997484  | 72.21204323808004  |\n",
    "| 0.0005        | -14.38487644| 61.22441748132813  |"
   ]
  },
  {
   "cell_type": "code",
   "execution_count": null,
   "metadata": {},
   "outputs": [],
   "source": [
    "# Recording the video\n",
    "from stable_baselines3.common.vec_env import VecVideoRecorder, DummyVecEnv\n",
    "\n",
    "env_id = 'CarRacing-v2'\n",
    "video_folder = './videos'\n",
    "video_length = 4500\n",
    "\n",
    "vec_env = DummyVecEnv([lambda: gym.make(env_id, render_mode=\"rgb_array\")])\n",
    "obs = vec_env.reset()\n",
    "\n",
    "vec_env = VecVideoRecorder(vec_env, video_folder,\n",
    "                       record_video_trigger=lambda x: x == 0, video_length=video_length,\n",
    "                       name_prefix=f\"car-racing-{env_id}-1\")\n",
    "\n",
    "vec_env.reset()\n",
    "\n",
    "for i in range(video_length + 1):\n",
    "    action, _states = model.predict(obs, deterministic=True)\n",
    "    obs, rewards, dones, info = vec_env.step(action)\n",
    "\n",
    "vec_env.close()"
   ]
  },
  {
   "cell_type": "code",
   "execution_count": null,
   "metadata": {},
   "outputs": [],
   "source": [
    "# Load the model\n",
    "model = PPO.load(\"ppo_carracing.zip\")"
   ]
  },
  {
   "cell_type": "code",
   "execution_count": null,
   "metadata": {},
   "outputs": [],
   "source": [
    "# Before uploading the model to the hub, login and verify your credentials\n",
    "!huggingface-cli login --token $your_hf_token --add-to-git-credential\n",
    "\n",
    "\n",
    "# Uploading model to hugging face\n",
    "import gymnasium as gym\n",
    "from stable_baselines3.common.vec_env import DummyVecEnv\n",
    "from stable_baselines3.common.env_util import make_vec_env\n",
    "\n",
    "from huggingface_sb3 import package_to_hub\n",
    "\n",
    "model_name = \"ppo-CarRacing-v2\"\n",
    "\n",
    "# Define a repo_id\n",
    "repo_id = 'Amankankriya/ppo-CarRacing-v2'\n",
    "\n",
    "# Define the name of the environment\n",
    "env_id = 'CarRacing-v2'\n",
    "\n",
    "# Create the evaluation env and set the render_mode=\"rgb_array\"\n",
    "eval_env = DummyVecEnv([lambda: gym.make(env_id, render_mode=\"rgb_array\")])\n",
    "\n",
    "\n",
    "# Define the model architecture we used\n",
    "model_architecture = \"PPO\"\n",
    "\n",
    "## Define the commit message\n",
    "commit_message = \"trained model for CarRacing-v2 using PPO\"\n",
    "\n",
    "# method save, evaluate, generate a model card and record a replay video of your agent before pushing the repo to the hub\n",
    "package_to_hub(model=model, # Our trained model\n",
    "               model_name=model_name, # The name of our trained model \n",
    "               model_architecture=model_architecture, # The model architecture we used: in our case PPO\n",
    "               env_id=env_id, # Name of the environment\n",
    "               eval_env=eval_env, # Evaluation Environment\n",
    "               repo_id=repo_id, # id of the model repository from the Hugging Face Hub (repo_id = {organization}/{repo_name} for instance Amankankriya/ppo-CarRacing-v2\n",
    "               commit_message=commit_message)\n"
   ]
  }
 ],
 "metadata": {
  "kernelspec": {
   "display_name": "deeprl",
   "language": "python",
   "name": "python3"
  },
  "language_info": {
   "codemirror_mode": {
    "name": "ipython",
    "version": 3
   },
   "file_extension": ".py",
   "mimetype": "text/x-python",
   "name": "python",
   "nbconvert_exporter": "python",
   "pygments_lexer": "ipython3",
   "version": "3.9.6"
  }
 },
 "nbformat": 4,
 "nbformat_minor": 2
}
