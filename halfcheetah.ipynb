{
 "cells": [
  {
   "cell_type": "code",
   "execution_count": null,
   "metadata": {},
   "outputs": [],
   "source": [
    "# Importing Necessary Libraries\n",
    "import gymnasium as gym\n",
    "from stable_baselines3 import PPO, DDPG, A2C\n",
    "from stable_baselines3.common.env_util import make_vec_env\n",
    "from stable_baselines3.common.evaluation import evaluate_policy\n",
    "from stable_baselines3.common.torch_layers import BaseFeaturesExtractor\n",
    "\n",
    "# Importing PyTorch\n",
    "import torch\n",
    "from torch import nn"
   ]
  },
  {
   "cell_type": "code",
   "execution_count": null,
   "metadata": {},
   "outputs": [],
   "source": [
    "# Creating the Environment\n",
    "env = make_vec_env('HalfCheetah-v4', n_envs=1)\n",
    "\n",
    "# custom network architecture\n",
    "policy_kwargs = dict(activation_fn = torch.nn.ReLU, net_arch=dict(pi=[128, 64], qf=[128, 128]))\n",
    "\n",
    "# Model\n",
    "model = DDPG(\n",
    "    policy='MlpPolicy',\n",
    "    env=env,\n",
    "    learning_rate=0.00032,\n",
    "    batch_size=100, \n",
    "    tau=0.05,\n",
    "    gamma=0.99, \n",
    "    verbose=1,\n",
    "    policy_kwargs=policy_kwargs\n",
    ")\n",
    "\n",
    "# Train the model\n",
    "model.learn(total_timesteps=4000000)"
   ]
  },
  {
   "cell_type": "code",
   "execution_count": null,
   "metadata": {},
   "outputs": [],
   "source": [
    "model.env = make_vec_env('HalfCheetah-v4', n_envs=1)\n",
    "model.learning_rate = 0.0005\n",
    "\n",
    "\n",
    "model.learn(total_timesteps=1000000)"
   ]
  },
  {
   "cell_type": "code",
   "execution_count": null,
   "metadata": {},
   "outputs": [],
   "source": [
    "model.env = make_vec_env('HalfCheetah-v4', n_envs=2)\n",
    "model.learning_rate = 0.0005\n",
    "model.gamma = 0.9\n",
    "\n",
    "model.learn(total_timesteps=1000000)"
   ]
  },
  {
   "cell_type": "code",
   "execution_count": null,
   "metadata": {},
   "outputs": [],
   "source": [
    "# Evaluate the model \n",
    "mean_reward, std_reward = evaluate_policy(model, env=make_vec_env('HalfCheetah-v4', n_envs=1), n_eval_episodes=100)\n",
    "print(f'Reward = {mean_reward} +/- {std_reward}')"
   ]
  },
  {
   "cell_type": "markdown",
   "metadata": {},
   "source": [
    "policy = 'MlpPolicy',\n",
    "    env = env,\n",
    "    learning_rate = 0.0001,\n",
    "    batch_size = 64,\n",
    "    tau = 0.005,\n",
    "    gamma = 0.9, \n",
    "    verbose=1\n",
    "Reward = 1361.3731310800001 +/- 70.26345065459948\n",
    "\n",
    "\n",
    "model = DDPG(\n",
    "    policy = 'MlpPolicy',\n",
    "    env = env,\n",
    "    learning_rate = 0.001,\n",
    "    batch_size = 16,\n",
    "    tau = 0.005,\n",
    "    gamma = 0.9, \n",
    "    verbose=1\n",
    ")\n",
    "Reward = 893.96030944 +/- 62.91451376119569\n",
    "\n",
    "model = DDPG(\n",
    "    policy = 'MlpPolicy',\n",
    "    env = env,\n",
    "    learning_rate = 0.0001,\n",
    "    batch_size = 16,\n",
    "    tau = 0.005,\n",
    "    gamma = 0.9, \n",
    "    verbose=1\n",
    ")\n",
    "Reward = 1354.26040748 +/- 35.594102669055225\n",
    "\n"
   ]
  },
  {
   "cell_type": "code",
   "execution_count": null,
   "metadata": {},
   "outputs": [],
   "source": [
    "# Before uploading the model to the hub, login and verify your credentials\n",
    "!huggingface-cli login --token $your_hf_token --add-to-git-credential\n",
    "\n",
    "\n",
    "# Uploading model to hugging face\n",
    "import gymnasium as gym\n",
    "from stable_baselines3.common.vec_env import DummyVecEnv\n",
    "from stable_baselines3.common.env_util import make_vec_env\n",
    "\n",
    "from huggingface_sb3 import package_to_hub\n",
    "\n",
    "model_name = \"DDPG-HalfCheetah-v4\"\n",
    "\n",
    "# Define a repo_id\n",
    "repo_id = 'Amankankriya/DDPG-HalfCheetah-v4'\n",
    "\n",
    "# Define the name of the environment\n",
    "env_id = 'HalfCheetah-v4'\n",
    "\n",
    "# Create the evaluation env and set the render_mode=\"rgb_array\"\n",
    "eval_env = DummyVecEnv([lambda: gym.make(env_id, render_mode=\"rgb_array\")])\n",
    "\n",
    "\n",
    "# Define the model architecture we used\n",
    "model_architecture = \"DDPG\"\n",
    "\n",
    "## Define the commit message\n",
    "commit_message = \"trained model for HalfCheetah-v4 using DDPG\"\n",
    "\n",
    "# method save, evaluate, generate a model card and record a replay video of your agent before pushing the repo to the hub\n",
    "package_to_hub(model=model, # Our trained model\n",
    "               model_name=model_name, # The name of our trained model \n",
    "               model_architecture=model_architecture, # The model architecture we used: in our case PPO\n",
    "               env_id=env_id, # Name of the environment\n",
    "               eval_env=eval_env, # Evaluation Environment\n",
    "               repo_id=repo_id, # id of the model repository from the Hugging Face Hub (repo_id = {organization}/{repo_name} for instance Amankankriya/ppo-CarRacing-v2\n",
    "               commit_message=commit_message)\n"
   ]
  }
 ],
 "metadata": {
  "kernelspec": {
   "display_name": "deeprl",
   "language": "python",
   "name": "python3"
  },
  "language_info": {
   "codemirror_mode": {
    "name": "ipython",
    "version": 3
   },
   "file_extension": ".py",
   "mimetype": "text/x-python",
   "name": "python",
   "nbconvert_exporter": "python",
   "pygments_lexer": "ipython3",
   "version": "3.9.6"
  }
 },
 "nbformat": 4,
 "nbformat_minor": 2
}
